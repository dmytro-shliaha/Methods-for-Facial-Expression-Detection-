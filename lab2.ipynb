{
  "cells": [
    {
      "cell_type": "code",
      "execution_count": null,
      "metadata": {
        "colab": {
          "base_uri": "https://localhost:8080/"
        },
        "id": "58Kuf3uuTP4u",
        "outputId": "7aed4c09-9dc6-4e61-f636-4125487b2372"
      },
      "outputs": [],
      "source": [
        "!pip install kagglehub\n",
        "import kagglehub\n",
        "\n",
        "path = kagglehub.dataset_download(\"msambare/fer2013\")\n",
        "print(\"Dataset path:\", path)\n"
      ]
    },
    {
      "cell_type": "code",
      "execution_count": 2,
      "metadata": {
        "id": "L7fcf2LFRyfD"
      },
      "outputs": [],
      "source": [
        "import os\n",
        "import cv2\n",
        "import numpy as np\n",
        "import matplotlib.pyplot as plt\n",
        "import seaborn as sns\n",
        "from sklearn.neighbors import KNeighborsClassifier\n",
        "from sklearn.metrics import accuracy_score, confusion_matrix, classification_report\n",
        "import joblib\n",
        "from skimage.feature import local_binary_pattern"
      ]
    },
    {
      "cell_type": "code",
      "execution_count": 3,
      "metadata": {
        "id": "ccM5fFb5RsK9"
      },
      "outputs": [],
      "source": [
        "# -----------------------------\n",
        "# 1. Load images\n",
        "# -----------------------------\n",
        "def load_images_from_folder(folder):\n",
        "    images, labels = [], []\n",
        "    label_names = sorted(os.listdir(folder))\n",
        "    label_map = {name: idx for idx, name in enumerate(label_names)}\n",
        "\n",
        "    for label_name in label_names:\n",
        "        path = os.path.join(folder, label_name)\n",
        "        for file in os.listdir(path):\n",
        "            if file.endswith(\".jpg\") or file.endswith(\".png\"):\n",
        "                img_path = os.path.join(path, file)\n",
        "                img = cv2.imread(img_path, cv2.IMREAD_GRAYSCALE)\n",
        "                img = cv2.resize(img, (48,48))\n",
        "                images.append(img)\n",
        "                labels.append(label_map[label_name])\n",
        "    return np.array(images), np.array(labels), label_map\n"
      ]
    },
    {
      "cell_type": "code",
      "execution_count": null,
      "metadata": {
        "colab": {
          "base_uri": "https://localhost:8080/"
        },
        "id": "zwnV_IpaR2Bg",
        "outputId": "88a1c841-4173-4498-ada8-1c5f06ce2253"
      },
      "outputs": [],
      "source": [
        "print(\"Load train...\")\n",
        "X_train, y_train, label_map = load_images_from_folder(\"/kaggle/input/fer2013/train\")\n",
        "print(\"Load test...\")\n",
        "X_test, y_test, _ = load_images_from_folder(\"/kaggle/input/fer2013/test\")\n",
        "\n",
        "print(\"Shapes:\", X_train.shape, y_train.shape, X_test.shape, y_test.shape)\n",
        "print(\"Classes:\", label_map)"
      ]
    },
    {
      "cell_type": "markdown",
      "metadata": {
        "id": "TZQGOvSGjyOn"
      },
      "source": [
        "# 1. LBP + kNN"
      ]
    },
    {
      "cell_type": "code",
      "execution_count": 12,
      "metadata": {
        "id": "BYBNV4TcR7y9"
      },
      "outputs": [],
      "source": [
        "# -----------------------------\n",
        "# 2. LBP\n",
        "# -----------------------------\n",
        "def extract_lbp_features(images):\n",
        "    features = []\n",
        "    for img in images:\n",
        "        lbp = local_binary_pattern(img, P=16, R=3, method=\"uniform\")\n",
        "        hist, _ = np.histogram(lbp.ravel(),\n",
        "                               bins=np.arange(0, 16 + 3),\n",
        "                               range=(0, 16 + 2),\n",
        "                               density=True)\n",
        "        features.append(hist)\n",
        "    return np.array(features)"
      ]
    },
    {
      "cell_type": "code",
      "execution_count": null,
      "metadata": {
        "colab": {
          "base_uri": "https://localhost:8080/"
        },
        "id": "tjnQNgbDR-W8",
        "outputId": "1a82b5d0-8bce-46b6-c66d-424e0b94797b"
      },
      "outputs": [],
      "source": [
        "print(\"Calculate LBP for train...\")\n",
        "X_train_lbp = extract_lbp_features(X_train)\n",
        "\n",
        "print(\"Calculate LBP for test...\")\n",
        "X_test_lbp = extract_lbp_features(X_test)\n"
      ]
    },
    {
      "cell_type": "code",
      "execution_count": null,
      "metadata": {
        "colab": {
          "base_uri": "https://localhost:8080/"
        },
        "id": "3TEI8bOER-5S",
        "outputId": "10528769-7b42-4226-867d-1de2035958ba"
      },
      "outputs": [],
      "source": [
        "# -----------------------------\n",
        "# 3. KNN\n",
        "# -----------------------------\n",
        "knn = KNeighborsClassifier(n_neighbors=5, n_jobs=-1)\n",
        "knn.fit(X_train_lbp, y_train)\n",
        "\n",
        "# -----------------------------\n",
        "# 4. Accuracy\n",
        "# -----------------------------\n",
        "y_pred = knn.predict(X_test_lbp)\n",
        "acc = accuracy_score(y_test, y_pred)\n",
        "print(\"LBP+KNN accuracy:\", acc)\n",
        "\n",
        "print(\"\\nClassification report:\")\n",
        "print(classification_report(y_test, y_pred, target_names=label_map.keys()))\n"
      ]
    },
    {
      "cell_type": "code",
      "execution_count": null,
      "metadata": {
        "id": "gKo_rDKKSDqx"
      },
      "outputs": [],
      "source": [
        "# -----------------------------\n",
        "# 6. Accuracy for different k\n",
        "# -----------------------------\n",
        "acc_scores = []\n",
        "k_values = list(range(1, 15))\n",
        "for k in k_values:\n",
        "    knn_temp = KNeighborsClassifier(n_neighbors=k, n_jobs=-1)\n",
        "    knn_temp.fit(X_train_lbp, y_train)\n",
        "    acc_scores.append(knn_temp.score(X_test_lbp, y_test))\n",
        "\n",
        "plt.figure(figsize=(8,5))\n",
        "plt.plot(k_values, acc_scores, marker=\"o\")\n",
        "plt.title(\"Accuracy vs k (LBP+KNN)\")\n",
        "plt.xlabel(\"k (neighbors)\")\n",
        "plt.ylabel(\"Accuracy\")\n",
        "plt.grid()\n",
        "plt.show()\n"
      ]
    },
    {
      "cell_type": "code",
      "execution_count": 15,
      "metadata": {
        "colab": {
          "base_uri": "https://localhost:8080/"
        },
        "id": "awMJvR4kSE1d",
        "outputId": "6492a1d7-36a4-42f3-91fd-3de4535594e4"
      },
      "outputs": [
        {
          "name": "stdout",
          "output_type": "stream",
          "text": [
            "Model saved lbp_knn.pkl\n"
          ]
        }
      ],
      "source": [
        "# -----------------------------\n",
        "# 7. Save model\n",
        "# -----------------------------\n",
        "joblib.dump(knn, \"lbp_knn.pkl\")\n",
        "print(\"Model saved lbp_knn.pkl\")\n"
      ]
    },
    {
      "cell_type": "markdown",
      "metadata": {
        "id": "Ftcfc6X1SlYW"
      },
      "source": [
        "============ Тест====================="
      ]
    },
    {
      "cell_type": "code",
      "execution_count": null,
      "metadata": {
        "colab": {
          "base_uri": "https://localhost:8080/"
        },
        "id": "OC1twt5QSmuw",
        "outputId": "79f0dbdd-e884-47b4-f6a8-1967eb9645d9"
      },
      "outputs": [],
      "source": [
        "# -----------------------------\n",
        "# LBP\n",
        "# -----------------------------\n",
        "def extract_lbp_features(images, P, R):\n",
        "    features = []\n",
        "    for img in images:\n",
        "        lbp = local_binary_pattern(img, P=P, R=R, method=\"uniform\")\n",
        "        hist, _ = np.histogram(lbp.ravel(),\n",
        "                               bins=np.arange(0, P + 3),\n",
        "                               range=(0, P + 2),\n",
        "                               density=True)\n",
        "        features.append(hist)\n",
        "    return np.array(features)\n",
        "\n",
        "# -----------------------------\n",
        "# Експеримент: різні P, R, k\n",
        "# -----------------------------\n",
        "P_values = [8, 16, 24]\n",
        "R_values = [1, 2, 3]\n",
        "k_values = [1, 3, 5, 7]\n",
        "\n",
        "results = []\n",
        "\n",
        "for P in P_values:\n",
        "    for R in R_values:\n",
        "        print(f\"\\n>>> Обчислюємо LBP з P={P}, R={R}\")\n",
        "        X_train_lbp = extract_lbp_features(X_train, P, R)\n",
        "        X_test_lbp = extract_lbp_features(X_test, P, R)\n",
        "\n",
        "        for k in k_values:\n",
        "            knn = KNeighborsClassifier(n_neighbors=k, n_jobs=-1)\n",
        "            knn.fit(X_train_lbp, y_train)\n",
        "            y_pred = knn.predict(X_test_lbp)\n",
        "            acc = accuracy_score(y_test, y_pred)\n",
        "\n",
        "            results.append({\"P\": P, \"R\": R, \"k\": k, \"accuracy\": acc})\n",
        "            print(f\"P={P}, R={R}, k={k} → accuracy={acc:.4f}\")\n"
      ]
    },
    {
      "cell_type": "code",
      "execution_count": 6,
      "metadata": {
        "id": "q-voF7YHUBmb"
      },
      "outputs": [],
      "source": [
        "import pandas as pd"
      ]
    },
    {
      "cell_type": "code",
      "execution_count": null,
      "metadata": {
        "colab": {
          "base_uri": "https://localhost:8080/",
          "height": 1000
        },
        "id": "TJ7UBuj5UAvw",
        "outputId": "0881ed8f-8cb3-4d54-8063-04bb47cc9809"
      },
      "outputs": [],
      "source": [
        "\n",
        "# -----------------------------\n",
        "# Результати у таблицю\n",
        "# -----------------------------\n",
        "df_results = pd.DataFrame(results)\n",
        "print(\"\\nТаблиця результатів:\")\n",
        "print(df_results)\n",
        "\n",
        "# -----------------------------\n",
        "# Візуалізація\n",
        "# -----------------------------\n",
        "plt.figure(figsize=(10,6))\n",
        "for (P, R), group in df_results.groupby([\"P\",\"R\"]):\n",
        "    plt.plot(group[\"k\"], group[\"accuracy\"], marker=\"o\", label=f\"P={P}, R={R}\")\n",
        "plt.title(\"Accuracy vs k for different LBP (P,R)\")\n",
        "plt.xlabel(\"k (neighbors)\")\n",
        "plt.ylabel(\"Accuracy\")\n",
        "plt.legend()\n",
        "plt.grid()\n",
        "plt.show()"
      ]
    },
    {
      "cell_type": "markdown",
      "metadata": {
        "id": "5dHB1IqKjqEB"
      },
      "source": [
        "# 2. HOG + SVM"
      ]
    },
    {
      "cell_type": "code",
      "execution_count": 5,
      "metadata": {
        "id": "XZhr3xtxld3V"
      },
      "outputs": [],
      "source": [
        "from skimage.feature import hog\n",
        "from sklearn.svm import LinearSVC"
      ]
    },
    {
      "cell_type": "code",
      "execution_count": 6,
      "metadata": {
        "id": "34IIEXoik7Ny"
      },
      "outputs": [],
      "source": [
        "# -----------------------------\n",
        "# 1. HOG\n",
        "# -----------------------------\n",
        "def extract_hog_features(images):\n",
        "    features = []\n",
        "    for img in images:\n",
        "        hog_features = hog(img,\n",
        "                           orientations=9,       # кількість напрямків\n",
        "                           pixels_per_cell=(8,8), # розмір \"клітинки\"\n",
        "                           cells_per_block=(2,2), # блоки для нормалізації\n",
        "                           block_norm='L2-Hys',\n",
        "                           transform_sqrt=True,   # покращує стійкість до освітлення\n",
        "                           feature_vector=True)\n",
        "        features.append(hog_features)\n",
        "    return np.array(features)\n"
      ]
    },
    {
      "cell_type": "code",
      "execution_count": null,
      "metadata": {
        "colab": {
          "base_uri": "https://localhost:8080/"
        },
        "id": "Jzw3KKZDk-Lq",
        "outputId": "732810ac-ad44-4e1c-c48a-7129a62dc304"
      },
      "outputs": [],
      "source": [
        "print(\"HOG train...\")\n",
        "X_train_hog = extract_hog_features(X_train)\n",
        "print(\"HOG test...\")\n",
        "X_test_hog = extract_hog_features(X_test)\n",
        "\n",
        "print(\"Shapes:\", X_train_hog.shape, X_test_hog.shape)"
      ]
    },
    {
      "cell_type": "code",
      "execution_count": null,
      "metadata": {
        "colab": {
          "base_uri": "https://localhost:8080/",
          "height": 80
        },
        "id": "PJL1j9CYlNKy",
        "outputId": "7fd8739e-d6ca-4ac8-cfb1-62fb19b7b651"
      },
      "outputs": [],
      "source": [
        "# -----------------------------\n",
        "# 2. Linear SVM\n",
        "# -----------------------------\n",
        "svm = LinearSVC(C=0.1, max_iter=5000)\n",
        "svm.fit(X_train_hog, y_train)"
      ]
    },
    {
      "cell_type": "code",
      "execution_count": null,
      "metadata": {
        "colab": {
          "base_uri": "https://localhost:8080/"
        },
        "id": "H9I03PXylONb",
        "outputId": "7b0972bd-32f4-461d-9297-65b306d477ff"
      },
      "outputs": [],
      "source": [
        "# -----------------------------\n",
        "# 3. Оцінка\n",
        "# -----------------------------\n",
        "y_pred = svm.predict(X_test_hog)\n",
        "acc = accuracy_score(y_test, y_pred)\n",
        "print(\"HOG + LinearSVM accuracy:\", acc)\n",
        "\n",
        "print(\"\\nClassification report:\")\n",
        "print(classification_report(y_test, y_pred, target_names=label_map.keys()))"
      ]
    },
    {
      "cell_type": "code",
      "execution_count": null,
      "metadata": {
        "colab": {
          "base_uri": "https://localhost:8080/",
          "height": 564
        },
        "id": "DnpZwxJ0lR0l",
        "outputId": "8b136768-8cf0-44d2-d164-084808a5c7f8"
      },
      "outputs": [],
      "source": [
        "# -----------------------------\n",
        "# 4. Confusion matrix\n",
        "# -----------------------------\n",
        "cm = confusion_matrix(y_test, y_pred)\n",
        "plt.figure(figsize=(8,6))\n",
        "sns.heatmap(cm, annot=True, fmt=\"d\", cmap=\"Blues\", xticklabels=label_map.keys(), yticklabels=label_map.keys())\n",
        "plt.title(\"Confusion Matrix (HOG + Linear SVM)\")\n",
        "plt.xlabel(\"Predicted\")\n",
        "plt.ylabel(\"True\")\n",
        "plt.show()"
      ]
    },
    {
      "cell_type": "code",
      "execution_count": null,
      "metadata": {
        "colab": {
          "base_uri": "https://localhost:8080/"
        },
        "id": "kPP3wr-2jpkP",
        "outputId": "24b0fee3-56f0-4533-f76d-a3bb1b95e931"
      },
      "outputs": [],
      "source": [
        "# -----------------------------\n",
        "# 5. Save model\n",
        "# -----------------------------\n",
        "joblib.dump(svm, \"hog_svm.pkl\")\n",
        "print(\"Model saved hog_svm.pkl\")"
      ]
    },
    {
      "cell_type": "markdown",
      "metadata": {
        "id": "jVHwNK4LnCvr"
      },
      "source": [
        "## ============ Тест ==============="
      ]
    },
    {
      "cell_type": "code",
      "execution_count": 16,
      "metadata": {
        "id": "30fzoovqnTOh"
      },
      "outputs": [],
      "source": [
        "from skimage import exposure"
      ]
    },
    {
      "cell_type": "code",
      "execution_count": null,
      "metadata": {
        "id": "1h1O96tOnGgb"
      },
      "outputs": [],
      "source": [
        "def show_hog_example(image, orientations=9, pixels_per_cell=(8,8), cells_per_block=(2,2)):\n",
        "    # HOG + візуалізація\n",
        "    hog_features, hog_image = hog(image,\n",
        "                                  orientations=orientations,\n",
        "                                  pixels_per_cell=pixels_per_cell,\n",
        "                                  cells_per_block=cells_per_block,\n",
        "                                  block_norm='L2-Hys',\n",
        "                                  transform_sqrt=True,\n",
        "                                  visualize=True,\n",
        "                                  feature_vector=True)\n",
        "\n",
        "    # Масштабування для відображення\n",
        "    hog_image_rescaled = exposure.rescale_intensity(hog_image, in_range=(0, 10))\n",
        "\n",
        "    # Малюємо\n",
        "    fig, (ax1, ax2) = plt.subplots(1, 2, figsize=(10,5), sharex=True, sharey=True)\n",
        "\n",
        "    ax1.imshow(image, cmap=plt.cm.gray)\n",
        "    ax1.set_title(\"Оригінал\")\n",
        "\n",
        "    ax2.imshow(hog_image_rescaled, cmap=plt.cm.gray)\n",
        "    ax2.set_title(f\"HOG (orient={orientations}, cell={pixels_per_cell}, block={cells_per_block})\")\n",
        "\n",
        "    plt.show()\n",
        "\n",
        "# Приклад: подивимось на одне фото з train\n",
        "sample_img = X_train[0]\n",
        "show_hog_example(sample_img, orientations=9, pixels_per_cell=(8,8), cells_per_block=(2,2))\n",
        "show_hog_example(sample_img, orientations=9, pixels_per_cell=(4,4), cells_per_block=(2,2))\n",
        "show_hog_example(sample_img, orientations=12, pixels_per_cell=(8,8), cells_per_block=(3,3))\n"
      ]
    },
    {
      "cell_type": "code",
      "execution_count": null,
      "metadata": {
        "colab": {
          "base_uri": "https://localhost:8080/"
        },
        "id": "ru5SNjAWnOQn",
        "outputId": "5e370bc9-5068-4b9b-d9c6-5c07b1a65c03"
      },
      "outputs": [],
      "source": [
        "configs = [\n",
        "    {\"orientations\": 9, \"pixels_per_cell\": (8,8), \"cells_per_block\": (2,2)},\n",
        "    {\"orientations\": 9, \"pixels_per_cell\": (4,4), \"cells_per_block\": (2,2)},\n",
        "    {\"orientations\": 12, \"pixels_per_cell\": (8,8), \"cells_per_block\": (3,3)},\n",
        "    {\"orientations\": 6, \"pixels_per_cell\": (16,16), \"cells_per_block\": (2,2)},\n",
        "]\n",
        "\n",
        "results = []\n",
        "\n",
        "for cfg in configs:\n",
        "    print(f\"Параметри: {cfg}\")\n",
        "    # HOG ознаки\n",
        "    X_train_hog = [hog(img,\n",
        "                       orientations=cfg[\"orientations\"],\n",
        "                       pixels_per_cell=cfg[\"pixels_per_cell\"],\n",
        "                       cells_per_block=cfg[\"cells_per_block\"],\n",
        "                       block_norm='L2-Hys',\n",
        "                       transform_sqrt=True,\n",
        "                       feature_vector=True) for img in X_train]\n",
        "    X_test_hog = [hog(img,\n",
        "                      orientations=cfg[\"orientations\"],\n",
        "                      pixels_per_cell=cfg[\"pixels_per_cell\"],\n",
        "                      cells_per_block=cfg[\"cells_per_block\"],\n",
        "                      block_norm='L2-Hys',\n",
        "                      transform_sqrt=True,\n",
        "                      feature_vector=True) for img in X_test]\n",
        "\n",
        "    X_train_hog = np.array(X_train_hog)\n",
        "    X_test_hog = np.array(X_test_hog)\n",
        "\n",
        "    # SVM\n",
        "    svm = LinearSVC(C=0.1, max_iter=5000)\n",
        "    svm.fit(X_train_hog, y_train)\n",
        "    y_pred = svm.predict(X_test_hog)\n",
        "    acc = accuracy_score(y_test, y_pred)\n",
        "\n",
        "    results.append({\"orientations\": cfg[\"orientations\"],\n",
        "                    \"pixels_per_cell\": cfg[\"pixels_per_cell\"],\n",
        "                    \"cells_per_block\": cfg[\"cells_per_block\"],\n",
        "                    \"accuracy\": acc})\n",
        "    print(f\"Accuracy = {acc:.4f}\")\n",
        "\n",
        "df = pd.DataFrame(results)\n",
        "print(\"\\nРезультати експерименту:\")\n",
        "print(df)\n"
      ]
    },
    {
      "cell_type": "markdown",
      "metadata": {
        "id": "L5BXWfn-tugv"
      },
      "source": [
        "# CNN"
      ]
    },
    {
      "cell_type": "code",
      "execution_count": 3,
      "metadata": {
        "id": "XyRZzsxuvXgQ"
      },
      "outputs": [],
      "source": [
        "import tensorflow as tf\n",
        "from tensorflow.keras.preprocessing.image import ImageDataGenerator\n",
        "from tensorflow.keras.layers import (Input, Conv2D, SeparableConv2D, BatchNormalization,\n",
        "                                     Activation, GlobalAveragePooling2D, Add)\n",
        "from tensorflow.keras.models import Model\n",
        "from tensorflow.keras.optimizers import Adam"
      ]
    },
    {
      "cell_type": "code",
      "execution_count": null,
      "metadata": {
        "colab": {
          "base_uri": "https://localhost:8080/"
        },
        "id": "mNSPrFBevhis",
        "outputId": "00511763-4a61-482d-b0dc-6bcf81056843"
      },
      "outputs": [],
      "source": [
        "train_dir = \"/kaggle/input/fer2013/train\"\n",
        "val_dir = \"/kaggle/input/fer2013/test\"\n",
        "\n",
        "# --------------------------\n",
        "# 1. Data Generators\n",
        "# --------------------------\n",
        "img_size = (48, 48)\n",
        "batch_size = 64\n",
        "\n",
        "# train_datagen = ImageDataGenerator(\n",
        "#     rescale=1./255,\n",
        "#     rotation_range=10,\n",
        "#     width_shift_range=0.1,\n",
        "#     height_shift_range=0.1,\n",
        "#     horizontal_flip=True\n",
        "# )\n",
        "\n",
        "# train_datagen = ImageDataGenerator(\n",
        "#     rescale=1./255,\n",
        "#     rotation_range=15,\n",
        "#     width_shift_range=0.15,\n",
        "#     height_shift_range=0.15,\n",
        "#     shear_range=0.1,\n",
        "#     zoom_range=0.1,\n",
        "#     horizontal_flip=True\n",
        "# )\n",
        "\n",
        "from tensorflow.keras.layers import RandomFlip, RandomRotation, RandomZoom\n",
        "\n",
        "data_augmentation = tf.keras.Sequential([\n",
        "    RandomFlip(\"horizontal\"),\n",
        "    RandomRotation(0.1),\n",
        "    RandomZoom(0.1)\n",
        "])\n",
        "\n",
        "\n",
        "val_datagen = ImageDataGenerator(rescale=1./255)\n",
        "\n",
        "train_gen = train_datagen.flow_from_directory(\n",
        "    train_dir,\n",
        "    target_size=img_size,\n",
        "    color_mode=\"grayscale\",\n",
        "    batch_size=batch_size,\n",
        "    class_mode=\"categorical\",\n",
        "    shuffle=True\n",
        ")\n",
        "\n",
        "val_gen = val_datagen.flow_from_directory(\n",
        "    val_dir,\n",
        "    target_size=img_size,\n",
        "    color_mode=\"grayscale\",\n",
        "    batch_size=batch_size,\n",
        "    class_mode=\"categorical\",\n",
        "    shuffle=False\n",
        ")\n",
        "\n",
        "num_classes = train_gen.num_classes"
      ]
    },
    {
      "cell_type": "code",
      "execution_count": 15,
      "metadata": {
        "id": "7XjQQNG3vlXZ"
      },
      "outputs": [],
      "source": [
        "# --------------------------\n",
        "# 2. mini-Xception Architecture\n",
        "# --------------------------\n",
        "def mini_xception(input_shape=(48,48,1), num_classes=7):\n",
        "    inputs = Input(shape=input_shape)\n",
        "\n",
        "    # Entry flow\n",
        "    x = Conv2D(8, (3,3), strides=(1,1), padding='same')(inputs)\n",
        "    x = BatchNormalization()(x)\n",
        "    x = Activation('relu')(x)\n",
        "\n",
        "    x = Conv2D(8, (3,3), strides=(1,1), padding='same')(x)\n",
        "    x = BatchNormalization()(x)\n",
        "    x = Activation('relu')(x)\n",
        "\n",
        "    residual = Conv2D(16, (1,1), strides=(2,2), padding='same')(x)\n",
        "    residual = BatchNormalization()(residual)\n",
        "\n",
        "    x = SeparableConv2D(16, (3,3), padding='same', activation='relu')(x)\n",
        "    x = BatchNormalization()(x)\n",
        "    x = SeparableConv2D(16, (3,3), padding='same', activation='relu')(x)\n",
        "    x = BatchNormalization()(x)\n",
        "    x = tf.keras.layers.MaxPooling2D((3,3), strides=(2,2), padding='same')(x)\n",
        "    x = Add()([x, residual])\n",
        "\n",
        "    residual = Conv2D(32, (1,1), strides=(2,2), padding='same')(x)\n",
        "    residual = BatchNormalization()(residual)\n",
        "\n",
        "    x = SeparableConv2D(32, (3,3), padding='same', activation='relu')(x)\n",
        "    x = BatchNormalization()(x)\n",
        "    x = SeparableConv2D(32, (3,3), padding='same', activation='relu')(x)\n",
        "    x = BatchNormalization()(x)\n",
        "    x = tf.keras.layers.MaxPooling2D((3,3), strides=(2,2), padding='same')(x)\n",
        "    x = Add()([x, residual])\n",
        "\n",
        "    residual = Conv2D(64, (1,1), strides=(2,2), padding='same')(x)\n",
        "    residual = BatchNormalization()(residual)\n",
        "\n",
        "    x = SeparableConv2D(64, (3,3), padding='same', activation='relu')(x)\n",
        "    x = BatchNormalization()(x)\n",
        "    x = SeparableConv2D(64, (3,3), padding='same', activation='relu')(x)\n",
        "    x = BatchNormalization()(x)\n",
        "    x = tf.keras.layers.MaxPooling2D((3,3), strides=(2,2), padding='same')(x)\n",
        "    x = Add()([x, residual])\n",
        "\n",
        "    # Final layers\n",
        "    x = Conv2D(num_classes, (3,3), padding='same')(x)\n",
        "    x = GlobalAveragePooling2D()(x)\n",
        "    outputs = Activation('softmax')(x)\n",
        "\n",
        "    model = Model(inputs, outputs)\n",
        "    return model"
      ]
    },
    {
      "cell_type": "code",
      "execution_count": 16,
      "metadata": {
        "collapsed": true,
        "id": "0GsLnLfqvntw"
      },
      "outputs": [],
      "source": [
        "# --------------------------\n",
        "# 3. Compile & Train\n",
        "# --------------------------\n",
        "model = mini_xception(input_shape=(48,48,1), num_classes=num_classes)\n",
        "model.compile(optimizer=Adam(learning_rate=0.001),\n",
        "              loss=\"categorical_crossentropy\",\n",
        "              metrics=[\"accuracy\"])\n",
        "\n",
        "#model.summary()"
      ]
    },
    {
      "cell_type": "code",
      "execution_count": 17,
      "metadata": {
        "id": "Yfiipt9l23QB"
      },
      "outputs": [],
      "source": [
        "from sklearn.utils.class_weight import compute_class_weight\n",
        "\n",
        "class_weights = compute_class_weight(\n",
        "    class_weight=\"balanced\",\n",
        "    classes=np.unique(train_gen.classes),\n",
        "    y=train_gen.classes\n",
        ")\n",
        "class_weights = dict(enumerate(class_weights))\n"
      ]
    },
    {
      "cell_type": "code",
      "execution_count": 18,
      "metadata": {
        "id": "tei230ZF3I7i"
      },
      "outputs": [],
      "source": [
        "from tensorflow.keras.callbacks import ReduceLROnPlateau, EarlyStopping, ModelCheckpoint\n",
        "\n",
        "callbacks = [\n",
        "    EarlyStopping(monitor=\"val_loss\", patience=10, restore_best_weights=True),\n",
        "    ReduceLROnPlateau(monitor=\"val_loss\", factor=0.5, patience=5, min_lr=1e-6),\n",
        "    ModelCheckpoint(\"best_mini_xception.keras\", monitor=\"val_loss\", save_best_only=True)\n",
        "]\n"
      ]
    },
    {
      "cell_type": "code",
      "execution_count": null,
      "metadata": {
        "colab": {
          "base_uri": "https://localhost:8080/"
        },
        "collapsed": true,
        "id": "dSGTYbgzvtzk",
        "outputId": "ec7bc5ba-6038-4d85-bfac-2a7ca94be234"
      },
      "outputs": [],
      "source": [
        "# --------------------------\n",
        "# 4. Training\n",
        "# --------------------------\n",
        "epochs = 50\n",
        "\n",
        "history = model.fit(\n",
        "    train_gen,\n",
        "    validation_data=val_gen,\n",
        "    epochs=epochs,\n",
        "    class_weight=class_weights,\n",
        "    callbacks=callbacks\n",
        ")"
      ]
    },
    {
      "cell_type": "code",
      "execution_count": null,
      "metadata": {
        "colab": {
          "base_uri": "https://localhost:8080/"
        },
        "id": "0QbNBUAC1iSX",
        "outputId": "071c8110-e101-4136-a2a0-0b101c240c2c"
      },
      "outputs": [],
      "source": [
        "# оцінка на валідаційному наборі\n",
        "val_loss, val_acc = model.evaluate(val_gen, verbose=1)\n",
        "print(f\"Validation accuracy: {val_acc*100:.2f}%\")\n",
        "\n",
        "# якщо є окремий test набір\n",
        "test_loss, test_acc = model.evaluate(val_gen, verbose=1)\n",
        "print(f\"Test accuracy: {test_acc*100:.2f}%\")"
      ]
    },
    {
      "cell_type": "code",
      "execution_count": 11,
      "metadata": {
        "id": "BBwtG1livv7P"
      },
      "outputs": [],
      "source": [
        "# --------------------------\n",
        "# 5. Save model\n",
        "# --------------------------\n",
        "model.save(\"mini_xception_fer2013_2.keras\")"
      ]
    },
    {
      "cell_type": "code",
      "execution_count": null,
      "metadata": {
        "colab": {
          "base_uri": "https://localhost:8080/",
          "height": 468
        },
        "id": "ERlND8P5two_",
        "outputId": "61559cdc-c651-4a47-f108-4c1201c8f33d"
      },
      "outputs": [],
      "source": [
        "# --------------------------\n",
        "# 6. Plot results\n",
        "# --------------------------\n",
        "import matplotlib.pyplot as plt\n",
        "\n",
        "plt.figure(figsize=(12,5))\n",
        "plt.subplot(1,2,1)\n",
        "plt.plot(history.history[\"accuracy\"], label=\"train_acc\")\n",
        "plt.plot(history.history[\"val_accuracy\"], label=\"val_acc\")\n",
        "plt.legend()\n",
        "plt.title(\"Accuracy\")\n",
        "\n",
        "plt.subplot(1,2,2)\n",
        "plt.plot(history.history[\"loss\"], label=\"train_loss\")\n",
        "plt.plot(history.history[\"val_loss\"], label=\"val_loss\")\n",
        "plt.legend()\n",
        "plt.title(\"Loss\")\n",
        "plt.show()\n"
      ]
    }
  ],
  "metadata": {
    "colab": {
      "provenance": []
    },
    "kernelspec": {
      "display_name": "Python 3",
      "name": "python3"
    },
    "language_info": {
      "name": "python"
    }
  },
  "nbformat": 4,
  "nbformat_minor": 0
}
